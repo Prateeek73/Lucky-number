{
  "nbformat": 4,
  "nbformat_minor": 0,
  "metadata": {
    "colab": {
      "name": "Copy of Untitled1.ipynb",
      "provenance": []
    },
    "kernelspec": {
      "name": "python3",
      "display_name": "Python 3"
    }
  },
  "cells": [
    {
      "cell_type": "code",
      "metadata": {
        "id": "OJGb0mWoWiwX",
        "colab_type": "code",
        "colab": {
          "base_uri": "https://localhost:8080/",
          "height": 235
        },
        "outputId": "03d68030-cbed-445a-c66e-72c431567ecf"
      },
      "source": [
        "R = int(input(\"Enter the number of rows:\")) \n",
        "C = int(input(\"Enter the number of columns:\")) \n",
        "   \n",
        "matrix = [] \n",
        "list=[]\n",
        "print(\"Enter the entries rowwise:\") \n",
        "  \n",
        "for i in range(R):          \n",
        "    a =[] \n",
        "    for j in range(C):     \n",
        "         a.append(int(input())) \n",
        "    matrix.append(a) \n",
        "    list.append(min(a))\n",
        "\n",
        "print(max(list))\n"
      ],
      "execution_count": null,
      "outputs": [
        {
          "output_type": "stream",
          "text": [
            "Enter the number of rows:3\n",
            "Enter the number of columns:3\n",
            "Enter the entries rowwise:\n",
            "3\n",
            "7\n",
            "8\n",
            "9\n",
            "11\n",
            "13\n",
            "15\n",
            "16\n",
            "17\n",
            "15\n"
          ],
          "name": "stdout"
        }
      ]
    },
    {
      "cell_type": "code",
      "metadata": {
        "id": "o5EDshu2amWw",
        "colab_type": "code",
        "colab": {}
      },
      "source": [
        ""
      ],
      "execution_count": null,
      "outputs": []
    }
  ]
}